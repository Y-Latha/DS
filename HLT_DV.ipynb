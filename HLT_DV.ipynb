{
 "cells": [
  {
   "cell_type": "code",
   "execution_count": 10,
   "metadata": {},
   "outputs": [
    {
     "name": "stdout",
     "output_type": "stream",
     "text": [
      "Defaulting to user installation because normal site-packages is not writeableNote: you may need to restart the kernel to use updated packages.\n",
      "Requirement already satisfied: altair in c:\\users\\gians\\appdata\\roaming\\python\\python310\\site-packages (4.2.0)\n",
      "\n"
     ]
    },
    {
     "name": "stderr",
     "output_type": "stream",
     "text": [
      "ERROR: Could not find a version that satisfies the requirement vega_dataset (from versions: none)\n",
      "ERROR: No matching distribution found for vega_dataset\n",
      "WARNING: You are using pip version 21.2.4; however, version 22.0.4 is available.\n",
      "You should consider upgrading via the 'C:\\Program Files\\Python310\\python.exe -m pip install --upgrade pip' command.\n"
     ]
    }
   ],
   "source": [
    "%pip install altair vega_dataset="
   ]
  },
  {
   "cell_type": "code",
   "execution_count": 33,
   "metadata": {},
   "outputs": [
    {
     "name": "stdout",
     "output_type": "stream",
     "text": [
      "Defaulting to user installation because normal site-packages is not writeable\n",
      "Requirement already satisfied: altair in c:\\users\\gians\\appdata\\roaming\\python\\python310\\site-packages (4.2.0)\n",
      "Requirement already satisfied: pandas>=0.18 in c:\\users\\gians\\appdata\\roaming\\python\\python310\\site-packages (from altair) (1.4.0)\n",
      "Requirement already satisfied: jsonschema>=3.0 in c:\\users\\gians\\appdata\\roaming\\python\\python310\\site-packages (from altair) (4.4.0)\n",
      "Requirement already satisfied: jinja2 in c:\\users\\gians\\appdata\\roaming\\python\\python310\\site-packages (from altair) (3.1.1)\n",
      "Requirement already satisfied: entrypoints in c:\\users\\gians\\appdata\\roaming\\python\\python310\\site-packages (from altair) (0.4)\n",
      "Requirement already satisfied: toolz in c:\\users\\gians\\appdata\\roaming\\python\\python310\\site-packages (from altair) (0.11.2)\n",
      "Requirement already satisfied: numpy in c:\\users\\gians\\appdata\\roaming\\python\\python310\\site-packages (from altair) (1.22.2)\n",
      "Requirement already satisfied: pyrsistent!=0.17.0,!=0.17.1,!=0.17.2,>=0.14.0 in c:\\users\\gians\\appdata\\roaming\\python\\python310\\site-packages (from jsonschema>=3.0->altair) (0.18.1)\n",
      "Requirement already satisfied: attrs>=17.4.0 in c:\\users\\gians\\appdata\\roaming\\python\\python310\\site-packages (from jsonschema>=3.0->altair) (21.4.0)\n",
      "Requirement already satisfied: pytz>=2020.1 in c:\\users\\gians\\appdata\\roaming\\python\\python310\\site-packages (from pandas>=0.18->altair) (2021.3)\n",
      "Requirement already satisfied: python-dateutil>=2.8.1 in c:\\users\\gians\\appdata\\roaming\\python\\python310\\site-packages (from pandas>=0.18->altair) (2.8.2)\n",
      "Requirement already satisfied: six>=1.5 in c:\\users\\gians\\appdata\\roaming\\python\\python310\\site-packages (from python-dateutil>=2.8.1->pandas>=0.18->altair) (1.16.0)\n",
      "Requirement already satisfied: MarkupSafe>=2.0 in c:\\users\\gians\\appdata\\roaming\\python\\python310\\site-packages (from jinja2->altair) (2.1.1)\n",
      "Note: you may need to restart the kernel to use updated packages.\n"
     ]
    },
    {
     "name": "stderr",
     "output_type": "stream",
     "text": [
      "WARNING: You are using pip version 21.2.4; however, version 22.0.4 is available.\n",
      "You should consider upgrading via the 'C:\\Program Files\\Python310\\python.exe -m pip install --upgrade pip' command.\n"
     ]
    }
   ],
   "source": [
    "%pip install altair"
   ]
  },
  {
   "cell_type": "code",
   "execution_count": 32,
   "metadata": {},
   "outputs": [
    {
     "name": "stderr",
     "output_type": "stream",
     "text": [
      "UsageError: Line magic function `%altair` not found.\n"
     ]
    }
   ],
   "source": []
  },
  {
   "cell_type": "code",
   "execution_count": 8,
   "metadata": {},
   "outputs": [],
   "source": [
    "import pandas as pd"
   ]
  },
  {
   "cell_type": "code",
   "execution_count": 16,
   "metadata": {},
   "outputs": [],
   "source": [
    "import altair as alt\n",
    "import matplotlib as md"
   ]
  },
  {
   "cell_type": "code",
   "execution_count": 60,
   "metadata": {},
   "outputs": [
    {
     "name": "stdout",
     "output_type": "stream",
     "text": [
      "    Colour   Size      Act    Age Inflated\n",
      "0   YELLOW  SMALL  STRETCH  ADULT        T\n",
      "1   YELLOW  SMALL  STRETCH  ADULT        T\n",
      "2   YELLOW  SMALL  STRETCH  CHILD        F\n",
      "3   YELLOW  SMALL      DIP  ADULT        F\n",
      "4   YELLOW  SMALL      DIP  CHILD        F\n",
      "5   YELLOW  LARGE  STRETCH  ADULT        T\n",
      "6   YELLOW  LARGE  STRETCH  ADULT        T\n",
      "7   YELLOW  LARGE  STRETCH  CHILD        F\n",
      "8   YELLOW  LARGE      DIP  ADULT        F\n",
      "9   YELLOW  LARGE      DIP  CHILD        F\n",
      "10  PURPLE  SMALL  STRETCH  ADULT        T\n",
      "11  PURPLE  SMALL  STRETCH  ADULT        T\n",
      "12  PURPLE  SMALL  STRETCH  CHILD        F\n",
      "13  PURPLE  SMALL      DIP  ADULT        F\n",
      "14  PURPLE  SMALL      DIP  CHILD        F\n",
      "15  PURPLE  LARGE  STRETCH  ADULT        T\n",
      "16  PURPLE  LARGE  STRETCH  ADULT        T\n",
      "17  PURPLE  LARGE  STRETCH  CHILD        F\n",
      "18  PURPLE  LARGE      DIP  ADULT        F\n",
      "19  PURPLE  LARGE      DIP  CHILD        F\n"
     ]
    }
   ],
   "source": [
    "baloon_data= pd.read_csv(\"Baloon.csv\")\n",
    "print(baloon_data)"
   ]
  },
  {
   "cell_type": "code",
   "execution_count": 61,
   "metadata": {},
   "outputs": [
    {
     "data": {
      "text/html": [
       "<div>\n",
       "<style scoped>\n",
       "    .dataframe tbody tr th:only-of-type {\n",
       "        vertical-align: middle;\n",
       "    }\n",
       "\n",
       "    .dataframe tbody tr th {\n",
       "        vertical-align: top;\n",
       "    }\n",
       "\n",
       "    .dataframe thead th {\n",
       "        text-align: right;\n",
       "    }\n",
       "</style>\n",
       "<table border=\"1\" class=\"dataframe\">\n",
       "  <thead>\n",
       "    <tr style=\"text-align: right;\">\n",
       "      <th></th>\n",
       "      <th>Colour</th>\n",
       "      <th>Size</th>\n",
       "      <th>Act</th>\n",
       "      <th>Age</th>\n",
       "      <th>Inflated</th>\n",
       "    </tr>\n",
       "  </thead>\n",
       "  <tbody>\n",
       "    <tr>\n",
       "      <th>0</th>\n",
       "      <td>YELLOW</td>\n",
       "      <td>SMALL</td>\n",
       "      <td>STRETCH</td>\n",
       "      <td>ADULT</td>\n",
       "      <td>T</td>\n",
       "    </tr>\n",
       "    <tr>\n",
       "      <th>1</th>\n",
       "      <td>YELLOW</td>\n",
       "      <td>SMALL</td>\n",
       "      <td>STRETCH</td>\n",
       "      <td>ADULT</td>\n",
       "      <td>T</td>\n",
       "    </tr>\n",
       "    <tr>\n",
       "      <th>2</th>\n",
       "      <td>YELLOW</td>\n",
       "      <td>SMALL</td>\n",
       "      <td>STRETCH</td>\n",
       "      <td>CHILD</td>\n",
       "      <td>F</td>\n",
       "    </tr>\n",
       "    <tr>\n",
       "      <th>3</th>\n",
       "      <td>YELLOW</td>\n",
       "      <td>SMALL</td>\n",
       "      <td>DIP</td>\n",
       "      <td>ADULT</td>\n",
       "      <td>F</td>\n",
       "    </tr>\n",
       "    <tr>\n",
       "      <th>4</th>\n",
       "      <td>YELLOW</td>\n",
       "      <td>SMALL</td>\n",
       "      <td>DIP</td>\n",
       "      <td>CHILD</td>\n",
       "      <td>F</td>\n",
       "    </tr>\n",
       "  </tbody>\n",
       "</table>\n",
       "</div>"
      ],
      "text/plain": [
       "   Colour   Size      Act    Age Inflated\n",
       "0  YELLOW  SMALL  STRETCH  ADULT        T\n",
       "1  YELLOW  SMALL  STRETCH  ADULT        T\n",
       "2  YELLOW  SMALL  STRETCH  CHILD        F\n",
       "3  YELLOW  SMALL      DIP  ADULT        F\n",
       "4  YELLOW  SMALL      DIP  CHILD        F"
      ]
     },
     "execution_count": 61,
     "metadata": {},
     "output_type": "execute_result"
    }
   ],
   "source": [
    "baloon_data.head()"
   ]
  },
  {
   "cell_type": "code",
   "execution_count": 62,
   "metadata": {},
   "outputs": [
    {
     "name": "stdout",
     "output_type": "stream",
     "text": [
      "    Colour   Size      Act    Age Inflated\n",
      "0   YELLOW  SMALL  STRETCH  ADULT        T\n",
      "1   YELLOW  SMALL  STRETCH  ADULT        T\n",
      "2   YELLOW  SMALL  STRETCH  CHILD        F\n",
      "3   YELLOW  SMALL      DIP  ADULT        F\n",
      "4   YELLOW  SMALL      DIP  CHILD        F\n",
      "5   YELLOW  LARGE  STRETCH  ADULT        T\n",
      "6   YELLOW  LARGE  STRETCH  ADULT        T\n",
      "7   YELLOW  LARGE  STRETCH  CHILD        F\n",
      "8   YELLOW  LARGE      DIP  ADULT        F\n",
      "9   YELLOW  LARGE      DIP  CHILD        F\n",
      "10  PURPLE  SMALL  STRETCH  ADULT        T\n",
      "11  PURPLE  SMALL  STRETCH  ADULT        T\n",
      "12  PURPLE  SMALL  STRETCH  CHILD        F\n",
      "13  PURPLE  SMALL      DIP  ADULT        F\n",
      "14  PURPLE  SMALL      DIP  CHILD        F\n",
      "15  PURPLE  LARGE  STRETCH  ADULT        T\n",
      "16  PURPLE  LARGE  STRETCH  ADULT        T\n",
      "17  PURPLE  LARGE  STRETCH  CHILD        F\n",
      "18  PURPLE  LARGE      DIP  ADULT        F\n",
      "19  PURPLE  LARGE      DIP  CHILD        F\n"
     ]
    }
   ],
   "source": [
    "mydataframe = pd.DataFrame(baloon_data)\n",
    "print(mydataframe)"
   ]
  },
  {
   "cell_type": "code",
   "execution_count": 63,
   "metadata": {},
   "outputs": [],
   "source": [
    "chart=alt.Chart(mydataframe)"
   ]
  },
  {
   "cell_type": "code",
   "execution_count": 77,
   "metadata": {},
   "outputs": [
    {
     "data": {
      "text/html": [
       "\n",
       "<div id=\"altair-viz-6b04df26a8314dbea79958de9150f9b9\"></div>\n",
       "<script type=\"text/javascript\">\n",
       "  var VEGA_DEBUG = (typeof VEGA_DEBUG == \"undefined\") ? {} : VEGA_DEBUG;\n",
       "  (function(spec, embedOpt){\n",
       "    let outputDiv = document.currentScript.previousElementSibling;\n",
       "    if (outputDiv.id !== \"altair-viz-6b04df26a8314dbea79958de9150f9b9\") {\n",
       "      outputDiv = document.getElementById(\"altair-viz-6b04df26a8314dbea79958de9150f9b9\");\n",
       "    }\n",
       "    const paths = {\n",
       "      \"vega\": \"https://cdn.jsdelivr.net/npm//vega@5?noext\",\n",
       "      \"vega-lib\": \"https://cdn.jsdelivr.net/npm//vega-lib?noext\",\n",
       "      \"vega-lite\": \"https://cdn.jsdelivr.net/npm//vega-lite@4.17.0?noext\",\n",
       "      \"vega-embed\": \"https://cdn.jsdelivr.net/npm//vega-embed@6?noext\",\n",
       "    };\n",
       "\n",
       "    function maybeLoadScript(lib, version) {\n",
       "      var key = `${lib.replace(\"-\", \"\")}_version`;\n",
       "      return (VEGA_DEBUG[key] == version) ?\n",
       "        Promise.resolve(paths[lib]) :\n",
       "        new Promise(function(resolve, reject) {\n",
       "          var s = document.createElement('script');\n",
       "          document.getElementsByTagName(\"head\")[0].appendChild(s);\n",
       "          s.async = true;\n",
       "          s.onload = () => {\n",
       "            VEGA_DEBUG[key] = version;\n",
       "            return resolve(paths[lib]);\n",
       "          };\n",
       "          s.onerror = () => reject(`Error loading script: ${paths[lib]}`);\n",
       "          s.src = paths[lib];\n",
       "        });\n",
       "    }\n",
       "\n",
       "    function showError(err) {\n",
       "      outputDiv.innerHTML = `<div class=\"error\" style=\"color:red;\">${err}</div>`;\n",
       "      throw err;\n",
       "    }\n",
       "\n",
       "    function displayChart(vegaEmbed) {\n",
       "      vegaEmbed(outputDiv, spec, embedOpt)\n",
       "        .catch(err => showError(`Javascript Error: ${err.message}<br>This usually means there's a typo in your chart specification. See the javascript console for the full traceback.`));\n",
       "    }\n",
       "\n",
       "    if(typeof define === \"function\" && define.amd) {\n",
       "      requirejs.config({paths});\n",
       "      require([\"vega-embed\"], displayChart, err => showError(`Error loading script: ${err.message}`));\n",
       "    } else {\n",
       "      maybeLoadScript(\"vega\", \"5\")\n",
       "        .then(() => maybeLoadScript(\"vega-lite\", \"4.17.0\"))\n",
       "        .then(() => maybeLoadScript(\"vega-embed\", \"6\"))\n",
       "        .catch(showError)\n",
       "        .then(() => displayChart(vegaEmbed));\n",
       "    }\n",
       "  })({\"config\": {\"view\": {\"continuousWidth\": 400, \"continuousHeight\": 300}}, \"data\": {\"name\": \"data-9271859cb92a9913974feaf5457e9258\"}, \"mark\": \"line\", \"encoding\": {\"tooltip\": {\"field\": \"Act\", \"type\": \"nominal\"}, \"x\": {\"field\": \"Colour\", \"type\": \"nominal\"}, \"y\": {\"field\": \"Size\", \"type\": \"nominal\"}}, \"$schema\": \"https://vega.github.io/schema/vega-lite/v4.17.0.json\", \"datasets\": {\"data-9271859cb92a9913974feaf5457e9258\": [{\"Colour\": \"YELLOW\", \"Size\": \"SMALL\", \"Act\": \"STRETCH\", \"Age\": \"ADULT\", \"Inflated\": \"T\"}, {\"Colour\": \"YELLOW\", \"Size\": \"SMALL\", \"Act\": \"STRETCH\", \"Age\": \"ADULT\", \"Inflated\": \"T\"}, {\"Colour\": \"YELLOW\", \"Size\": \"SMALL\", \"Act\": \"STRETCH\", \"Age\": \"CHILD\", \"Inflated\": \"F\"}, {\"Colour\": \"YELLOW\", \"Size\": \"SMALL\", \"Act\": \"DIP\", \"Age\": \"ADULT\", \"Inflated\": \"F\"}, {\"Colour\": \"YELLOW\", \"Size\": \"SMALL\", \"Act\": \"DIP\", \"Age\": \"CHILD\", \"Inflated\": \"F\"}, {\"Colour\": \"YELLOW\", \"Size\": \"LARGE\", \"Act\": \"STRETCH\", \"Age\": \"ADULT\", \"Inflated\": \"T\"}, {\"Colour\": \"YELLOW\", \"Size\": \"LARGE\", \"Act\": \"STRETCH\", \"Age\": \"ADULT\", \"Inflated\": \"T\"}, {\"Colour\": \"YELLOW\", \"Size\": \"LARGE\", \"Act\": \"STRETCH\", \"Age\": \"CHILD\", \"Inflated\": \"F\"}, {\"Colour\": \"YELLOW\", \"Size\": \"LARGE\", \"Act\": \"DIP\", \"Age\": \"ADULT\", \"Inflated\": \"F\"}, {\"Colour\": \"YELLOW\", \"Size\": \"LARGE\", \"Act\": \"DIP\", \"Age\": \"CHILD\", \"Inflated\": \"F\"}, {\"Colour\": \"PURPLE\", \"Size\": \"SMALL\", \"Act\": \"STRETCH\", \"Age\": \"ADULT\", \"Inflated\": \"T\"}, {\"Colour\": \"PURPLE\", \"Size\": \"SMALL\", \"Act\": \"STRETCH\", \"Age\": \"ADULT\", \"Inflated\": \"T\"}, {\"Colour\": \"PURPLE\", \"Size\": \"SMALL\", \"Act\": \"STRETCH\", \"Age\": \"CHILD\", \"Inflated\": \"F\"}, {\"Colour\": \"PURPLE\", \"Size\": \"SMALL\", \"Act\": \"DIP\", \"Age\": \"ADULT\", \"Inflated\": \"F\"}, {\"Colour\": \"PURPLE\", \"Size\": \"SMALL\", \"Act\": \"DIP\", \"Age\": \"CHILD\", \"Inflated\": \"F\"}, {\"Colour\": \"PURPLE\", \"Size\": \"LARGE\", \"Act\": \"STRETCH\", \"Age\": \"ADULT\", \"Inflated\": \"T\"}, {\"Colour\": \"PURPLE\", \"Size\": \"LARGE\", \"Act\": \"STRETCH\", \"Age\": \"ADULT\", \"Inflated\": \"T\"}, {\"Colour\": \"PURPLE\", \"Size\": \"LARGE\", \"Act\": \"STRETCH\", \"Age\": \"CHILD\", \"Inflated\": \"F\"}, {\"Colour\": \"PURPLE\", \"Size\": \"LARGE\", \"Act\": \"DIP\", \"Age\": \"ADULT\", \"Inflated\": \"F\"}, {\"Colour\": \"PURPLE\", \"Size\": \"LARGE\", \"Act\": \"DIP\", \"Age\": \"CHILD\", \"Inflated\": \"F\"}]}}, {\"mode\": \"vega-lite\"});\n",
       "</script>"
      ],
      "text/plain": [
       "alt.Chart(...)"
      ]
     },
     "execution_count": 77,
     "metadata": {},
     "output_type": "execute_result"
    }
   ],
   "source": [
    "alt.Chart(mydataframe).mark_line().encode(x='Colour',y='Size',tooltip='Act')"
   ]
  },
  {
   "cell_type": "code",
   "execution_count": 78,
   "metadata": {},
   "outputs": [
    {
     "data": {
      "text/html": [
       "\n",
       "<div id=\"altair-viz-37745d7ddf5045e48236720d70cd44ed\"></div>\n",
       "<script type=\"text/javascript\">\n",
       "  var VEGA_DEBUG = (typeof VEGA_DEBUG == \"undefined\") ? {} : VEGA_DEBUG;\n",
       "  (function(spec, embedOpt){\n",
       "    let outputDiv = document.currentScript.previousElementSibling;\n",
       "    if (outputDiv.id !== \"altair-viz-37745d7ddf5045e48236720d70cd44ed\") {\n",
       "      outputDiv = document.getElementById(\"altair-viz-37745d7ddf5045e48236720d70cd44ed\");\n",
       "    }\n",
       "    const paths = {\n",
       "      \"vega\": \"https://cdn.jsdelivr.net/npm//vega@5?noext\",\n",
       "      \"vega-lib\": \"https://cdn.jsdelivr.net/npm//vega-lib?noext\",\n",
       "      \"vega-lite\": \"https://cdn.jsdelivr.net/npm//vega-lite@4.17.0?noext\",\n",
       "      \"vega-embed\": \"https://cdn.jsdelivr.net/npm//vega-embed@6?noext\",\n",
       "    };\n",
       "\n",
       "    function maybeLoadScript(lib, version) {\n",
       "      var key = `${lib.replace(\"-\", \"\")}_version`;\n",
       "      return (VEGA_DEBUG[key] == version) ?\n",
       "        Promise.resolve(paths[lib]) :\n",
       "        new Promise(function(resolve, reject) {\n",
       "          var s = document.createElement('script');\n",
       "          document.getElementsByTagName(\"head\")[0].appendChild(s);\n",
       "          s.async = true;\n",
       "          s.onload = () => {\n",
       "            VEGA_DEBUG[key] = version;\n",
       "            return resolve(paths[lib]);\n",
       "          };\n",
       "          s.onerror = () => reject(`Error loading script: ${paths[lib]}`);\n",
       "          s.src = paths[lib];\n",
       "        });\n",
       "    }\n",
       "\n",
       "    function showError(err) {\n",
       "      outputDiv.innerHTML = `<div class=\"error\" style=\"color:red;\">${err}</div>`;\n",
       "      throw err;\n",
       "    }\n",
       "\n",
       "    function displayChart(vegaEmbed) {\n",
       "      vegaEmbed(outputDiv, spec, embedOpt)\n",
       "        .catch(err => showError(`Javascript Error: ${err.message}<br>This usually means there's a typo in your chart specification. See the javascript console for the full traceback.`));\n",
       "    }\n",
       "\n",
       "    if(typeof define === \"function\" && define.amd) {\n",
       "      requirejs.config({paths});\n",
       "      require([\"vega-embed\"], displayChart, err => showError(`Error loading script: ${err.message}`));\n",
       "    } else {\n",
       "      maybeLoadScript(\"vega\", \"5\")\n",
       "        .then(() => maybeLoadScript(\"vega-lite\", \"4.17.0\"))\n",
       "        .then(() => maybeLoadScript(\"vega-embed\", \"6\"))\n",
       "        .catch(showError)\n",
       "        .then(() => displayChart(vegaEmbed));\n",
       "    }\n",
       "  })({\"config\": {\"view\": {\"continuousWidth\": 400, \"continuousHeight\": 300}}, \"data\": {\"name\": \"data-9271859cb92a9913974feaf5457e9258\"}, \"mark\": \"point\", \"encoding\": {\"color\": {\"field\": \"Colour\", \"type\": \"nominal\"}, \"tooltip\": {\"field\": \"Colour\", \"type\": \"nominal\"}, \"x\": {\"field\": \"Age\", \"type\": \"nominal\"}, \"y\": {\"field\": \"Inflated\", \"type\": \"nominal\"}}, \"$schema\": \"https://vega.github.io/schema/vega-lite/v4.17.0.json\", \"datasets\": {\"data-9271859cb92a9913974feaf5457e9258\": [{\"Colour\": \"YELLOW\", \"Size\": \"SMALL\", \"Act\": \"STRETCH\", \"Age\": \"ADULT\", \"Inflated\": \"T\"}, {\"Colour\": \"YELLOW\", \"Size\": \"SMALL\", \"Act\": \"STRETCH\", \"Age\": \"ADULT\", \"Inflated\": \"T\"}, {\"Colour\": \"YELLOW\", \"Size\": \"SMALL\", \"Act\": \"STRETCH\", \"Age\": \"CHILD\", \"Inflated\": \"F\"}, {\"Colour\": \"YELLOW\", \"Size\": \"SMALL\", \"Act\": \"DIP\", \"Age\": \"ADULT\", \"Inflated\": \"F\"}, {\"Colour\": \"YELLOW\", \"Size\": \"SMALL\", \"Act\": \"DIP\", \"Age\": \"CHILD\", \"Inflated\": \"F\"}, {\"Colour\": \"YELLOW\", \"Size\": \"LARGE\", \"Act\": \"STRETCH\", \"Age\": \"ADULT\", \"Inflated\": \"T\"}, {\"Colour\": \"YELLOW\", \"Size\": \"LARGE\", \"Act\": \"STRETCH\", \"Age\": \"ADULT\", \"Inflated\": \"T\"}, {\"Colour\": \"YELLOW\", \"Size\": \"LARGE\", \"Act\": \"STRETCH\", \"Age\": \"CHILD\", \"Inflated\": \"F\"}, {\"Colour\": \"YELLOW\", \"Size\": \"LARGE\", \"Act\": \"DIP\", \"Age\": \"ADULT\", \"Inflated\": \"F\"}, {\"Colour\": \"YELLOW\", \"Size\": \"LARGE\", \"Act\": \"DIP\", \"Age\": \"CHILD\", \"Inflated\": \"F\"}, {\"Colour\": \"PURPLE\", \"Size\": \"SMALL\", \"Act\": \"STRETCH\", \"Age\": \"ADULT\", \"Inflated\": \"T\"}, {\"Colour\": \"PURPLE\", \"Size\": \"SMALL\", \"Act\": \"STRETCH\", \"Age\": \"ADULT\", \"Inflated\": \"T\"}, {\"Colour\": \"PURPLE\", \"Size\": \"SMALL\", \"Act\": \"STRETCH\", \"Age\": \"CHILD\", \"Inflated\": \"F\"}, {\"Colour\": \"PURPLE\", \"Size\": \"SMALL\", \"Act\": \"DIP\", \"Age\": \"ADULT\", \"Inflated\": \"F\"}, {\"Colour\": \"PURPLE\", \"Size\": \"SMALL\", \"Act\": \"DIP\", \"Age\": \"CHILD\", \"Inflated\": \"F\"}, {\"Colour\": \"PURPLE\", \"Size\": \"LARGE\", \"Act\": \"STRETCH\", \"Age\": \"ADULT\", \"Inflated\": \"T\"}, {\"Colour\": \"PURPLE\", \"Size\": \"LARGE\", \"Act\": \"STRETCH\", \"Age\": \"ADULT\", \"Inflated\": \"T\"}, {\"Colour\": \"PURPLE\", \"Size\": \"LARGE\", \"Act\": \"STRETCH\", \"Age\": \"CHILD\", \"Inflated\": \"F\"}, {\"Colour\": \"PURPLE\", \"Size\": \"LARGE\", \"Act\": \"DIP\", \"Age\": \"ADULT\", \"Inflated\": \"F\"}, {\"Colour\": \"PURPLE\", \"Size\": \"LARGE\", \"Act\": \"DIP\", \"Age\": \"CHILD\", \"Inflated\": \"F\"}]}}, {\"mode\": \"vega-lite\"});\n",
       "</script>"
      ],
      "text/plain": [
       "alt.Chart(...)"
      ]
     },
     "execution_count": 78,
     "metadata": {},
     "output_type": "execute_result"
    }
   ],
   "source": [
    "alt.Chart(mydataframe).mark_point().encode(x='Age',y='Inflated',color='Colour',tooltip='Colour')"
   ]
  }
 ],
 "metadata": {
  "interpreter": {
   "hash": "b89b5cfaba6639976dc87ff2fec6d58faec662063367e2c229c520fe71072417"
  },
  "kernelspec": {
   "display_name": "Python 3.10.2 64-bit",
   "language": "python",
   "name": "python3"
  },
  "language_info": {
   "codemirror_mode": {
    "name": "ipython",
    "version": 3
   },
   "file_extension": ".py",
   "mimetype": "text/x-python",
   "name": "python",
   "nbconvert_exporter": "python",
   "pygments_lexer": "ipython3",
   "version": "3.10.2"
  },
  "orig_nbformat": 4
 },
 "nbformat": 4,
 "nbformat_minor": 2
}
