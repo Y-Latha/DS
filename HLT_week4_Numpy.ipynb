{
 "cells": [
  {
   "cell_type": "code",
   "execution_count": 1,
   "metadata": {},
   "outputs": [
    {
     "name": "stdout",
     "output_type": "stream",
     "text": [
      "[0 1 2 3 4 5 6 7 8 9]\n"
     ]
    }
   ],
   "source": [
    "#Create a 1D array of numbers from 0 to9\n",
    "import numpy as np\n",
    "array= np.array([0,1,2,3,4,5,6,7,8,9])\n",
    "print(array[0:10])"
   ]
  },
  {
   "cell_type": "code",
   "execution_count": 2,
   "metadata": {},
   "outputs": [
    {
     "name": "stdout",
     "output_type": "stream",
     "text": [
      "[[ True  True  True]\n",
      " [ True  True  True]\n",
      " [ True  True  True]]\n"
     ]
    }
   ],
   "source": [
    "#Create a 3×3 NumPy array of allBoolean value Trues\n",
    "import numpy as np\n",
    "array= np.array([[1,1,1], [1,1,1],[1,1,1]])\n",
    "print(array==1)"
   ]
  },
  {
   "cell_type": "code",
   "execution_count": 8,
   "metadata": {},
   "outputs": [
    {
     "name": "stdout",
     "output_type": "stream",
     "text": [
      "[1 3 5 7 9]\n"
     ]
    }
   ],
   "source": [
    "#Extract all odd numbers from array of 1-10\n",
    "import numpy as np\n",
    "B=np.arange(1,11,2)\n",
    "print(B)"
   ]
  },
  {
   "cell_type": "code",
   "execution_count": 9,
   "metadata": {},
   "outputs": [
    {
     "name": "stdout",
     "output_type": "stream",
     "text": [
      "[ 0  1  2  3  4  5  6  7  8  9 10]\n",
      "[ 0 -1  2 -1  4 -1  6 -1  8 -1 10]\n",
      "[ 0 -1  2 -1  4 -1  6 -1  8 -1 10]\n"
     ]
    }
   ],
   "source": [
    "#Replace all odd numbers in an array of 1-10 with the value -1\n",
    "B=np.array([0,1,2,3,4,5,6,7,8,9,10])\n",
    "print(B)\n",
    "for i in B:\n",
    "    if i%2==1:\n",
    "        (B[i]) = -1\n",
    "print(B)\n",
    "D=np.where(B%2==1,-1,B)\n",
    "print(D)"
   ]
  },
  {
   "cell_type": "code",
   "execution_count": 5,
   "metadata": {},
   "outputs": [
    {
     "name": "stdout",
     "output_type": "stream",
     "text": [
      "[ 1  2  3  4  5  6  7  8  9 10]\n",
      "[[ 1  2  3  4  5]\n",
      " [ 6  7  8  9 10]]\n"
     ]
    }
   ],
   "source": [
    "#Convert a 1D array to a 2D array with 2rows\n",
    "C=np.array([1,2,3,4,5,6,7,8,9,10])\n",
    "print(C)\n",
    "A=C.reshape(2,5)\n",
    "print(A)"
   ]
  },
  {
   "cell_type": "code",
   "execution_count": 6,
   "metadata": {},
   "outputs": [
    {
     "name": "stdout",
     "output_type": "stream",
     "text": [
      "[[ 2  3  4]\n",
      " [32 33 34]]\n",
      "299\n",
      "299\n"
     ]
    }
   ],
   "source": [
    "#Create two arrays a and b, stack these two arrays vertically use the  np.dot and np.sum to calculatetotals\n",
    "a=np.array([2,3,4])\n",
    "b=np.array([32,33,34])\n",
    "W= np.vstack((a,b))\n",
    "d=np.dot(a,b)\n",
    "s=np.sum(d)\n",
    "print(W)\n",
    "print(d)\n",
    "print(s)"
   ]
  },
  {
   "cell_type": "code",
   "execution_count": 7,
   "metadata": {},
   "outputs": [
    {
     "name": "stdout",
     "output_type": "stream",
     "text": [
      "[[641 653]\n",
      " [402 403]]\n",
      "2099\n",
      "51\n"
     ]
    }
   ],
   "source": [
    "a1=np.array([[23,34,45],[12,32,43]])\n",
    "b1=np.array([[21,22],[2,3],[2,1]])\n",
    "d1=np.dot(a1,b1)\n",
    "s1=np.sum(d1)\n",
    "s2=np.sum(b1)\n",
    "print(d1)\n",
    "print(s1)\n",
    "print(s2)"
   ]
  }
 ],
 "metadata": {
  "interpreter": {
   "hash": "b89b5cfaba6639976dc87ff2fec6d58faec662063367e2c229c520fe71072417"
  },
  "kernelspec": {
   "display_name": "Python 3.10.2 64-bit",
   "language": "python",
   "name": "python3"
  },
  "language_info": {
   "codemirror_mode": {
    "name": "ipython",
    "version": 3
   },
   "file_extension": ".py",
   "mimetype": "text/x-python",
   "name": "python",
   "nbconvert_exporter": "python",
   "pygments_lexer": "ipython3",
   "version": "3.10.2"
  },
  "orig_nbformat": 4
 },
 "nbformat": 4,
 "nbformat_minor": 2
}
