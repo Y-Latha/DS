{
 "cells": [
  {
   "cell_type": "code",
   "execution_count": 1,
   "metadata": {},
   "outputs": [
    {
     "name": "stdout",
     "output_type": "stream",
     "text": [
      "Defaulting to user installation because normal site-packages is not writeableNote: you may need to restart the kernel to use updated packages.\n"
     ]
    },
    {
     "name": "stderr",
     "output_type": "stream",
     "text": [
      "ERROR: Could not find a version that satisfies the requirement vega_dataset (from versions: none)\n",
      "ERROR: No matching distribution found for vega_dataset\n",
      "WARNING: You are using pip version 21.2.4; however, version 22.0.3 is available.\n",
      "You should consider upgrading via the 'C:\\Program Files\\Python310\\python.exe -m pip install --upgrade pip' command.\n"
     ]
    },
    {
     "name": "stdout",
     "output_type": "stream",
     "text": [
      "\n",
      "Collecting altair\n",
      "  Downloading altair-4.2.0-py3-none-any.whl (812 kB)\n"
     ]
    }
   ],
   "source": [
    "%pip install altair vega_dataset\n"
   ]
  },
  {
   "cell_type": "code",
   "execution_count": 3,
   "metadata": {},
   "outputs": [
    {
     "name": "stdout",
     "output_type": "stream",
     "text": [
      "       Destination  Feedback_Score  H_Rating  Number of Allinclusive hotels  \\\n",
      "0          Austria               9         4                             34   \n",
      "1         Bulgaria               8         3                              5   \n",
      "2          Croatia               7         4                              7   \n",
      "3           Cyprus               8         3                             24   \n",
      "4   Czech Republic               8         4                             47   \n",
      "5           France               9         5                             63   \n",
      "6          Germany               9         5                             29   \n",
      "7         Michigan               3         4                             19   \n",
      "8           Greece               7         4                             58   \n",
      "9          Hungary               8         3                             12   \n",
      "10         Iceland               6         5                             24   \n",
      "11           Italy              10         4                             72   \n",
      "12           Jersy               8         3                             54   \n",
      "13           Malta               7         4                             61   \n",
      "14     Netherlands               8         4                             59   \n",
      "15          Poland               6         3                              6   \n",
      "16     Switzerland              10         5                             95   \n",
      "17           Spain               9         5                             84   \n",
      "18          Turkey               8         4                             57   \n",
      "\n",
      "   Most visited city  \n",
      "0             Vienna  \n",
      "1              Sofia  \n",
      "2             Zagreb  \n",
      "3           Limassol  \n",
      "4             Prague  \n",
      "5              Paris  \n",
      "6             Berlin  \n",
      "7          Gibraltar  \n",
      "8             Athens  \n",
      "9           Budapest  \n",
      "10          Reykjavk  \n",
      "11            Venice  \n",
      "12     Atlantic City  \n",
      "13          Valletta  \n",
      "14         Amsterdam  \n",
      "15            Krakow  \n",
      "16              Bern  \n",
      "17         Barcelona  \n",
      "18          Istanbul  \n"
     ]
    }
   ],
   "source": [
    "import pandas as pd\n",
    "data= pd.read_csv(\"Holiday_destinations.csv\")\n",
    "print(data)\n"
   ]
  },
  {
   "cell_type": "code",
   "execution_count": 9,
   "metadata": {},
   "outputs": [
    {
     "name": "stdout",
     "output_type": "stream",
     "text": [
      "number of rows: 19\n",
      "number of columns: 5\n"
     ]
    }
   ],
   "source": [
    "print(\"number of rows: \"+str(len(data)))\n",
    "print(\"number of columns: \"+str(len(data.columns)))"
   ]
  },
  {
   "cell_type": "code",
   "execution_count": 13,
   "metadata": {},
   "outputs": [
    {
     "name": "stdout",
     "output_type": "stream",
     "text": [
      "      Destination  Feedback_Score  H_Rating  Number of Allinclusive hotels  \\\n",
      "3          Cyprus               8         3                             24   \n",
      "4  Czech Republic               8         4                             47   \n",
      "5          France               9         5                             63   \n",
      "6         Germany               9         5                             29   \n",
      "7        Michigan               3         4                             19   \n",
      "\n",
      "  Most visited city  \n",
      "3          Limassol  \n",
      "4            Prague  \n",
      "5             Paris  \n",
      "6            Berlin  \n",
      "7         Gibraltar  \n"
     ]
    },
    {
     "data": {
      "text/plain": [
       "(19, 5)"
      ]
     },
     "execution_count": 13,
     "metadata": {},
     "output_type": "execute_result"
    }
   ],
   "source": [
    "print(data.iloc[3:8])\n",
    "data.shape"
   ]
  },
  {
   "cell_type": "code",
   "execution_count": 20,
   "metadata": {},
   "outputs": [
    {
     "name": "stdout",
     "output_type": "stream",
     "text": [
      "mean of all inclusive hotels: 42.63\n"
     ]
    }
   ],
   "source": [
    "print(\"mean of all inclusive hotels: \"+str(round(data[\"Number of Allinclusive hotels\"].mean(),2)))"
   ]
  },
  {
   "cell_type": "code",
   "execution_count": 22,
   "metadata": {},
   "outputs": [
    {
     "name": "stdout",
     "output_type": "stream",
     "text": [
      "Lowest scoring destination: 3\n",
      "Highest scoring destination: 10\n"
     ]
    }
   ],
   "source": [
    "print(\"Lowest scoring destination: \"+str(round(data[\"Feedback_Score\"].min(),2)))\n",
    "print(\"Highest scoring destination: \"+str(round(data[\"Feedback_Score\"].max(),2)))"
   ]
  },
  {
   "cell_type": "code",
   "execution_count": 43,
   "metadata": {},
   "outputs": [
    {
     "name": "stdout",
     "output_type": "stream",
     "text": [
      "List of destinations that have more than 9 number of all inclusive hotels\n"
     ]
    },
    {
     "data": {
      "text/plain": [
       "0            Austria\n",
       "3             Cyprus\n",
       "4     Czech Republic\n",
       "5             France\n",
       "6            Germany\n",
       "7           Michigan\n",
       "8             Greece\n",
       "9            Hungary\n",
       "10           Iceland\n",
       "11             Italy\n",
       "12             Jersy\n",
       "13             Malta\n",
       "14       Netherlands\n",
       "16       Switzerland\n",
       "17             Spain\n",
       "18            Turkey\n",
       "Name: Destination, dtype: object"
      ]
     },
     "execution_count": 43,
     "metadata": {},
     "output_type": "execute_result"
    }
   ],
   "source": [
    "result=data[\"Number of Allinclusive hotels\"]>9\n",
    "X=data[result]\n",
    "#X.head(18)\n",
    "print(\"List of destinations that have more than 9 number of all inclusive hotels\")\n",
    "X.Destination"
   ]
  },
  {
   "cell_type": "code",
   "execution_count": 45,
   "metadata": {},
   "outputs": [
    {
     "name": "stdout",
     "output_type": "stream",
     "text": [
      "List of all destinations with Feedback_Score more than 8 \n"
     ]
    },
    {
     "data": {
      "text/plain": [
       "0         Austria\n",
       "5          France\n",
       "6         Germany\n",
       "11          Italy\n",
       "16    Switzerland\n",
       "17          Spain\n",
       "Name: Destination, dtype: object"
      ]
     },
     "execution_count": 45,
     "metadata": {},
     "output_type": "execute_result"
    }
   ],
   "source": [
    "print(\"List of all destinations with Feedback_Score more than 8 \")\n",
    "result2=data[\"Feedback_Score\"]>8\n",
    "Y=data[result2]\n",
    "Y.Destination"
   ]
  },
  {
   "cell_type": "code",
   "execution_count": 50,
   "metadata": {},
   "outputs": [
    {
     "name": "stdout",
     "output_type": "stream",
     "text": [
      "Destinations that have very low Feedback_Score\n"
     ]
    },
    {
     "data": {
      "text/plain": [
       "7    Michigan\n",
       "Name: Destination, dtype: object"
      ]
     },
     "execution_count": 50,
     "metadata": {},
     "output_type": "execute_result"
    }
   ],
   "source": [
    "print(\"Destinations that have very low Feedback_Score\")\n",
    "result3=data[\"Feedback_Score\"]<6\n",
    "Z=data[result3]\n",
    "Z.Destination"
   ]
  },
  {
   "cell_type": "code",
   "execution_count": 64,
   "metadata": {},
   "outputs": [
    {
     "name": "stdout",
     "output_type": "stream",
     "text": [
      "       Destination  Feedback_Score  H_Rating  Number of Allinclusive hotels  \\\n",
      "0          Austria               9         4                             34   \n",
      "1         Bulgaria               8         3                              5   \n",
      "2          Croatia               7         4                              7   \n",
      "3           Cyprus               8         3                             24   \n",
      "4   Czech Republic               8         4                             47   \n",
      "5           France               9         5                             63   \n",
      "6          Germany               9         5                             29   \n",
      "7         Michigan               3         4                             19   \n",
      "8           Greece               7         4                             58   \n",
      "9          Hungary               8         3                             12   \n",
      "10         Iceland               6         5                             24   \n",
      "11           Italy              10         4                             72   \n",
      "12           Jersy               8         3                             54   \n",
      "13           Malta               7         4                             61   \n",
      "14     Netherlands               8         4                             59   \n",
      "15          Poland               6         3                              6   \n",
      "16     Switzerland              10         5                             95   \n",
      "17           Spain               9         5                             84   \n",
      "18          Turkey               8         4                             57   \n",
      "\n",
      "   Most visited city  \n",
      "0             Vienna  \n",
      "1              Sofia  \n",
      "2             Zagreb  \n",
      "3           Limassol  \n",
      "4             Prague  \n",
      "5              Paris  \n",
      "6             Berlin  \n",
      "7          Gibraltar  \n",
      "8             Athens  \n",
      "9           Budapest  \n",
      "10          Reykjavk  \n",
      "11            Venice  \n",
      "12     Atlantic City  \n",
      "13          Valletta  \n",
      "14         Amsterdam  \n",
      "15            Krakow  \n",
      "16              Bern  \n",
      "17         Barcelona  \n",
      "18          Istanbul  \n"
     ]
    }
   ],
   "source": [
    "\n",
    "df1=pd.DataFrame(data)\n",
    "print(df1)\n",
    "#df1.plot(x='Destination',y='Feedback_Score')"
   ]
  }
 ],
 "metadata": {
  "interpreter": {
   "hash": "b89b5cfaba6639976dc87ff2fec6d58faec662063367e2c229c520fe71072417"
  },
  "kernelspec": {
   "display_name": "Python 3.10.2 64-bit",
   "language": "python",
   "name": "python3"
  },
  "language_info": {
   "codemirror_mode": {
    "name": "ipython",
    "version": 3
   },
   "file_extension": ".py",
   "mimetype": "text/x-python",
   "name": "python",
   "nbconvert_exporter": "python",
   "pygments_lexer": "ipython3",
   "version": "3.10.2"
  },
  "orig_nbformat": 4
 },
 "nbformat": 4,
 "nbformat_minor": 2
}
